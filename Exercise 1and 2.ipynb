{
 "cells": [
  {
   "cell_type": "code",
   "execution_count": 1,
   "metadata": {
    "collapsed": true
   },
   "outputs": [],
   "source": [
    "import numpy as np"
   ]
  },
  {
   "cell_type": "code",
   "execution_count": 22,
   "metadata": {},
   "outputs": [
    {
     "name": "stdout",
     "output_type": "stream",
     "text": [
      "Input numbers by a comma: 8,5.5,9.6,12\n",
      "8.775\n"
     ]
    }
   ],
   "source": [
    "from __future__ import division\n",
    "list=input(\"Input numbers by a comma: \")\n",
    "def avg(list):\n",
    "    return sum((list))/ len(list)\n",
    "print avg(list)"
   ]
  },
  {
   "cell_type": "code",
   "execution_count": 24,
   "metadata": {},
   "outputs": [
    {
     "name": "stdout",
     "output_type": "stream",
     "text": [
      "Input numbers by a comma: 8,12,5,6\n",
      "Input the number of occurancies for average calculation: 3\n",
      "7.66666666667\n"
     ]
    }
   ],
   "source": [
    "from __future__ import division\n",
    "listnew=input(\"Input numbers by a comma: \")\n",
    "numberofoccurances=input(\"Input the number of occurancies for average calculation: \")\n",
    "def avg(listnew):\n",
    "    return sum(listnew[len(listnew)-numberofoccurances: ])/ numberofoccurances\n",
    "print avg(listnew)\n"
   ]
  },
  {
   "cell_type": "code",
   "execution_count": null,
   "metadata": {
    "collapsed": true
   },
   "outputs": [],
   "source": []
  },
  {
   "cell_type": "code",
   "execution_count": null,
   "metadata": {
    "collapsed": true
   },
   "outputs": [],
   "source": []
  }
 ],
 "metadata": {
  "kernelspec": {
   "display_name": "Python 2",
   "language": "python",
   "name": "python2"
  },
  "language_info": {
   "codemirror_mode": {
    "name": "ipython",
    "version": 2
   },
   "file_extension": ".py",
   "mimetype": "text/x-python",
   "name": "python",
   "nbconvert_exporter": "python",
   "pygments_lexer": "ipython2",
   "version": "2.7.13"
  }
 },
 "nbformat": 4,
 "nbformat_minor": 2
}
